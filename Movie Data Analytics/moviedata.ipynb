{
  "nbformat": 4,
  "nbformat_minor": 0,
  "metadata": {
    "colab": {
      "name": "moviedata.ipynb",
      "provenance": [],
      "collapsed_sections": [],
      "authorship_tag": "ABX9TyO9F9qbwvA8AkamtPg2mPhe",
      "include_colab_link": true
    },
    "kernelspec": {
      "name": "python3",
      "display_name": "Python 3"
    },
    "language_info": {
      "name": "python"
    }
  },
  "cells": [
    {
      "cell_type": "markdown",
      "metadata": {
        "id": "view-in-github",
        "colab_type": "text"
      },
      "source": [
        "<a href=\"https://colab.research.google.com/github/WoonTheGreat/Data-Analytics-Project/blob/main/moviedata.ipynb\" target=\"_parent\"><img src=\"https://colab.research.google.com/assets/colab-badge.svg\" alt=\"Open In Colab\"/></a>"
      ]
    },
    {
      "cell_type": "markdown",
      "source": [
        "Introduction:\n",
        "The data set I chose is Movie dataset\n",
        "\n",
        "This data set contains information about 10,000 movies collected from The Movie Database (TMDb), including user ratings and revenue.\n",
        "\n",
        "----\n",
        "\n",
        "Questions for this dataset:\n",
        "\n",
        "Q1: Does higher budget mean higher popularity ? Is there a coefficent relationship ?\n",
        "\n",
        "Q2: Will the runtime affect the vote count and popularity?\n",
        "\n",
        "Q3: Higher popularity means higher profits ?\n",
        "\n",
        "Q4: What Features are Associate with Top 10 Revenue Movies ?\n",
        "\n",
        "Q5: Which genres are most popular from year to year?"
      ],
      "metadata": {
        "id": "79Ige3i3I4HG"
      }
    },
    {
      "cell_type": "code",
      "execution_count": 1,
      "metadata": {
        "id": "PKJklBdvItGI"
      },
      "outputs": [],
      "source": [
        "# Import all the libraries which will be used later\n",
        "import pandas as pd\n",
        "import matplotlib.pyplot as plt\n",
        "import seaborn as sns       \n",
        "import numpy as np\n",
        "%matplotlib inline "
      ]
    },
    {
      "cell_type": "markdown",
      "source": [
        "Data Wrangling:\n",
        "\n",
        "Getting familiar with the data types, data structure. \n",
        "\n",
        "Delete the duplicates and unuseful columns like imdb_id,homepage etc.\n",
        "\n",
        "Filling the null with string \"missing\". For budget, datatype integer, filling 0 with np.NAN."
      ],
      "metadata": {
        "id": "8VwPCkgoM7zj"
      }
    },
    {
      "cell_type": "code",
      "source": [
        "# load in data and print out the head \n",
        "df=pd.read_csv('tmdb-movies.csv')\n",
        "df.head()"
      ],
      "metadata": {
        "colab": {
          "base_uri": "https://localhost:8080/",
          "height": 669
        },
        "id": "czBFef8WMtmv",
        "outputId": "ae1c8eb0-b38e-4ad2-df7a-e978df593512"
      },
      "execution_count": 3,
      "outputs": [
        {
          "output_type": "execute_result",
          "data": {
            "text/html": [
              "\n",
              "  <div id=\"df-2a8e1572-4f6e-4698-8f07-ae7091e76b84\">\n",
              "    <div class=\"colab-df-container\">\n",
              "      <div>\n",
              "<style scoped>\n",
              "    .dataframe tbody tr th:only-of-type {\n",
              "        vertical-align: middle;\n",
              "    }\n",
              "\n",
              "    .dataframe tbody tr th {\n",
              "        vertical-align: top;\n",
              "    }\n",
              "\n",
              "    .dataframe thead th {\n",
              "        text-align: right;\n",
              "    }\n",
              "</style>\n",
              "<table border=\"1\" class=\"dataframe\">\n",
              "  <thead>\n",
              "    <tr style=\"text-align: right;\">\n",
              "      <th></th>\n",
              "      <th>id</th>\n",
              "      <th>imdb_id</th>\n",
              "      <th>popularity</th>\n",
              "      <th>budget</th>\n",
              "      <th>revenue</th>\n",
              "      <th>original_title</th>\n",
              "      <th>cast</th>\n",
              "      <th>homepage</th>\n",
              "      <th>director</th>\n",
              "      <th>tagline</th>\n",
              "      <th>keywords</th>\n",
              "      <th>overview</th>\n",
              "      <th>runtime</th>\n",
              "      <th>genres</th>\n",
              "      <th>production_companies</th>\n",
              "      <th>release_date</th>\n",
              "      <th>vote_count</th>\n",
              "      <th>vote_average</th>\n",
              "      <th>release_year</th>\n",
              "      <th>budget_adj</th>\n",
              "      <th>revenue_adj</th>\n",
              "    </tr>\n",
              "  </thead>\n",
              "  <tbody>\n",
              "    <tr>\n",
              "      <th>0</th>\n",
              "      <td>135397</td>\n",
              "      <td>tt0369610</td>\n",
              "      <td>32.985763</td>\n",
              "      <td>150000000</td>\n",
              "      <td>1513528810</td>\n",
              "      <td>Jurassic World</td>\n",
              "      <td>Chris Pratt|Bryce Dallas Howard|Irrfan Khan|Vi...</td>\n",
              "      <td>http://www.jurassicworld.com/</td>\n",
              "      <td>Colin Trevorrow</td>\n",
              "      <td>The park is open.</td>\n",
              "      <td>monster|dna|tyrannosaurus rex|velociraptor|island</td>\n",
              "      <td>Twenty-two years after the events of Jurassic ...</td>\n",
              "      <td>124</td>\n",
              "      <td>Action|Adventure|Science Fiction|Thriller</td>\n",
              "      <td>Universal Studios|Amblin Entertainment|Legenda...</td>\n",
              "      <td>6/9/15</td>\n",
              "      <td>5562</td>\n",
              "      <td>6.5</td>\n",
              "      <td>2015</td>\n",
              "      <td>1.379999e+08</td>\n",
              "      <td>1.392446e+09</td>\n",
              "    </tr>\n",
              "    <tr>\n",
              "      <th>1</th>\n",
              "      <td>76341</td>\n",
              "      <td>tt1392190</td>\n",
              "      <td>28.419936</td>\n",
              "      <td>150000000</td>\n",
              "      <td>378436354</td>\n",
              "      <td>Mad Max: Fury Road</td>\n",
              "      <td>Tom Hardy|Charlize Theron|Hugh Keays-Byrne|Nic...</td>\n",
              "      <td>http://www.madmaxmovie.com/</td>\n",
              "      <td>George Miller</td>\n",
              "      <td>What a Lovely Day.</td>\n",
              "      <td>future|chase|post-apocalyptic|dystopia|australia</td>\n",
              "      <td>An apocalyptic story set in the furthest reach...</td>\n",
              "      <td>120</td>\n",
              "      <td>Action|Adventure|Science Fiction|Thriller</td>\n",
              "      <td>Village Roadshow Pictures|Kennedy Miller Produ...</td>\n",
              "      <td>5/13/15</td>\n",
              "      <td>6185</td>\n",
              "      <td>7.1</td>\n",
              "      <td>2015</td>\n",
              "      <td>1.379999e+08</td>\n",
              "      <td>3.481613e+08</td>\n",
              "    </tr>\n",
              "    <tr>\n",
              "      <th>2</th>\n",
              "      <td>262500</td>\n",
              "      <td>tt2908446</td>\n",
              "      <td>13.112507</td>\n",
              "      <td>110000000</td>\n",
              "      <td>295238201</td>\n",
              "      <td>Insurgent</td>\n",
              "      <td>Shailene Woodley|Theo James|Kate Winslet|Ansel...</td>\n",
              "      <td>http://www.thedivergentseries.movie/#insurgent</td>\n",
              "      <td>Robert Schwentke</td>\n",
              "      <td>One Choice Can Destroy You</td>\n",
              "      <td>based on novel|revolution|dystopia|sequel|dyst...</td>\n",
              "      <td>Beatrice Prior must confront her inner demons ...</td>\n",
              "      <td>119</td>\n",
              "      <td>Adventure|Science Fiction|Thriller</td>\n",
              "      <td>Summit Entertainment|Mandeville Films|Red Wago...</td>\n",
              "      <td>3/18/15</td>\n",
              "      <td>2480</td>\n",
              "      <td>6.3</td>\n",
              "      <td>2015</td>\n",
              "      <td>1.012000e+08</td>\n",
              "      <td>2.716190e+08</td>\n",
              "    </tr>\n",
              "    <tr>\n",
              "      <th>3</th>\n",
              "      <td>140607</td>\n",
              "      <td>tt2488496</td>\n",
              "      <td>11.173104</td>\n",
              "      <td>200000000</td>\n",
              "      <td>2068178225</td>\n",
              "      <td>Star Wars: The Force Awakens</td>\n",
              "      <td>Harrison Ford|Mark Hamill|Carrie Fisher|Adam D...</td>\n",
              "      <td>http://www.starwars.com/films/star-wars-episod...</td>\n",
              "      <td>J.J. Abrams</td>\n",
              "      <td>Every generation has a story.</td>\n",
              "      <td>android|spaceship|jedi|space opera|3d</td>\n",
              "      <td>Thirty years after defeating the Galactic Empi...</td>\n",
              "      <td>136</td>\n",
              "      <td>Action|Adventure|Science Fiction|Fantasy</td>\n",
              "      <td>Lucasfilm|Truenorth Productions|Bad Robot</td>\n",
              "      <td>12/15/15</td>\n",
              "      <td>5292</td>\n",
              "      <td>7.5</td>\n",
              "      <td>2015</td>\n",
              "      <td>1.839999e+08</td>\n",
              "      <td>1.902723e+09</td>\n",
              "    </tr>\n",
              "    <tr>\n",
              "      <th>4</th>\n",
              "      <td>168259</td>\n",
              "      <td>tt2820852</td>\n",
              "      <td>9.335014</td>\n",
              "      <td>190000000</td>\n",
              "      <td>1506249360</td>\n",
              "      <td>Furious 7</td>\n",
              "      <td>Vin Diesel|Paul Walker|Jason Statham|Michelle ...</td>\n",
              "      <td>http://www.furious7.com/</td>\n",
              "      <td>James Wan</td>\n",
              "      <td>Vengeance Hits Home</td>\n",
              "      <td>car race|speed|revenge|suspense|car</td>\n",
              "      <td>Deckard Shaw seeks revenge against Dominic Tor...</td>\n",
              "      <td>137</td>\n",
              "      <td>Action|Crime|Thriller</td>\n",
              "      <td>Universal Pictures|Original Film|Media Rights ...</td>\n",
              "      <td>4/1/15</td>\n",
              "      <td>2947</td>\n",
              "      <td>7.3</td>\n",
              "      <td>2015</td>\n",
              "      <td>1.747999e+08</td>\n",
              "      <td>1.385749e+09</td>\n",
              "    </tr>\n",
              "  </tbody>\n",
              "</table>\n",
              "</div>\n",
              "      <button class=\"colab-df-convert\" onclick=\"convertToInteractive('df-2a8e1572-4f6e-4698-8f07-ae7091e76b84')\"\n",
              "              title=\"Convert this dataframe to an interactive table.\"\n",
              "              style=\"display:none;\">\n",
              "        \n",
              "  <svg xmlns=\"http://www.w3.org/2000/svg\" height=\"24px\"viewBox=\"0 0 24 24\"\n",
              "       width=\"24px\">\n",
              "    <path d=\"M0 0h24v24H0V0z\" fill=\"none\"/>\n",
              "    <path d=\"M18.56 5.44l.94 2.06.94-2.06 2.06-.94-2.06-.94-.94-2.06-.94 2.06-2.06.94zm-11 1L8.5 8.5l.94-2.06 2.06-.94-2.06-.94L8.5 2.5l-.94 2.06-2.06.94zm10 10l.94 2.06.94-2.06 2.06-.94-2.06-.94-.94-2.06-.94 2.06-2.06.94z\"/><path d=\"M17.41 7.96l-1.37-1.37c-.4-.4-.92-.59-1.43-.59-.52 0-1.04.2-1.43.59L10.3 9.45l-7.72 7.72c-.78.78-.78 2.05 0 2.83L4 21.41c.39.39.9.59 1.41.59.51 0 1.02-.2 1.41-.59l7.78-7.78 2.81-2.81c.8-.78.8-2.07 0-2.86zM5.41 20L4 18.59l7.72-7.72 1.47 1.35L5.41 20z\"/>\n",
              "  </svg>\n",
              "      </button>\n",
              "      \n",
              "  <style>\n",
              "    .colab-df-container {\n",
              "      display:flex;\n",
              "      flex-wrap:wrap;\n",
              "      gap: 12px;\n",
              "    }\n",
              "\n",
              "    .colab-df-convert {\n",
              "      background-color: #E8F0FE;\n",
              "      border: none;\n",
              "      border-radius: 50%;\n",
              "      cursor: pointer;\n",
              "      display: none;\n",
              "      fill: #1967D2;\n",
              "      height: 32px;\n",
              "      padding: 0 0 0 0;\n",
              "      width: 32px;\n",
              "    }\n",
              "\n",
              "    .colab-df-convert:hover {\n",
              "      background-color: #E2EBFA;\n",
              "      box-shadow: 0px 1px 2px rgba(60, 64, 67, 0.3), 0px 1px 3px 1px rgba(60, 64, 67, 0.15);\n",
              "      fill: #174EA6;\n",
              "    }\n",
              "\n",
              "    [theme=dark] .colab-df-convert {\n",
              "      background-color: #3B4455;\n",
              "      fill: #D2E3FC;\n",
              "    }\n",
              "\n",
              "    [theme=dark] .colab-df-convert:hover {\n",
              "      background-color: #434B5C;\n",
              "      box-shadow: 0px 1px 3px 1px rgba(0, 0, 0, 0.15);\n",
              "      filter: drop-shadow(0px 1px 2px rgba(0, 0, 0, 0.3));\n",
              "      fill: #FFFFFF;\n",
              "    }\n",
              "  </style>\n",
              "\n",
              "      <script>\n",
              "        const buttonEl =\n",
              "          document.querySelector('#df-2a8e1572-4f6e-4698-8f07-ae7091e76b84 button.colab-df-convert');\n",
              "        buttonEl.style.display =\n",
              "          google.colab.kernel.accessAllowed ? 'block' : 'none';\n",
              "\n",
              "        async function convertToInteractive(key) {\n",
              "          const element = document.querySelector('#df-2a8e1572-4f6e-4698-8f07-ae7091e76b84');\n",
              "          const dataTable =\n",
              "            await google.colab.kernel.invokeFunction('convertToInteractive',\n",
              "                                                     [key], {});\n",
              "          if (!dataTable) return;\n",
              "\n",
              "          const docLinkHtml = 'Like what you see? Visit the ' +\n",
              "            '<a target=\"_blank\" href=https://colab.research.google.com/notebooks/data_table.ipynb>data table notebook</a>'\n",
              "            + ' to learn more about interactive tables.';\n",
              "          element.innerHTML = '';\n",
              "          dataTable['output_type'] = 'display_data';\n",
              "          await google.colab.output.renderOutput(dataTable, element);\n",
              "          const docLink = document.createElement('div');\n",
              "          docLink.innerHTML = docLinkHtml;\n",
              "          element.appendChild(docLink);\n",
              "        }\n",
              "      </script>\n",
              "    </div>\n",
              "  </div>\n",
              "  "
            ],
            "text/plain": [
              "       id    imdb_id  popularity  ...  release_year    budget_adj   revenue_adj\n",
              "0  135397  tt0369610   32.985763  ...          2015  1.379999e+08  1.392446e+09\n",
              "1   76341  tt1392190   28.419936  ...          2015  1.379999e+08  3.481613e+08\n",
              "2  262500  tt2908446   13.112507  ...          2015  1.012000e+08  2.716190e+08\n",
              "3  140607  tt2488496   11.173104  ...          2015  1.839999e+08  1.902723e+09\n",
              "4  168259  tt2820852    9.335014  ...          2015  1.747999e+08  1.385749e+09\n",
              "\n",
              "[5 rows x 21 columns]"
            ]
          },
          "metadata": {},
          "execution_count": 3
        }
      ]
    },
    {
      "cell_type": "code",
      "source": [
        "# check the rows and columns of this dataset\n",
        "df.shape "
      ],
      "metadata": {
        "colab": {
          "base_uri": "https://localhost:8080/"
        },
        "id": "DSvaWktgOf4M",
        "outputId": "6a1613ea-8236-4a19-f154-172f4170f5b9"
      },
      "execution_count": 4,
      "outputs": [
        {
          "output_type": "execute_result",
          "data": {
            "text/plain": [
              "(10866, 21)"
            ]
          },
          "metadata": {},
          "execution_count": 4
        }
      ]
    },
    {
      "cell_type": "code",
      "source": [
        "# check datatypes to see if there are some wrongly categorized types\n",
        "df.dtypes"
      ],
      "metadata": {
        "colab": {
          "base_uri": "https://localhost:8080/"
        },
        "id": "NC2NpZHpOhOD",
        "outputId": "9f425739-94ad-4de5-9dee-94d6a65c19f8"
      },
      "execution_count": 5,
      "outputs": [
        {
          "output_type": "execute_result",
          "data": {
            "text/plain": [
              "id                        int64\n",
              "imdb_id                  object\n",
              "popularity              float64\n",
              "budget                    int64\n",
              "revenue                   int64\n",
              "original_title           object\n",
              "cast                     object\n",
              "homepage                 object\n",
              "director                 object\n",
              "tagline                  object\n",
              "keywords                 object\n",
              "overview                 object\n",
              "runtime                   int64\n",
              "genres                   object\n",
              "production_companies     object\n",
              "release_date             object\n",
              "vote_count                int64\n",
              "vote_average            float64\n",
              "release_year              int64\n",
              "budget_adj              float64\n",
              "revenue_adj             float64\n",
              "dtype: object"
            ]
          },
          "metadata": {},
          "execution_count": 5
        }
      ]
    },
    {
      "cell_type": "code",
      "source": [
        "# identify unique values from each columns \n",
        "df.nunique()"
      ],
      "metadata": {
        "colab": {
          "base_uri": "https://localhost:8080/"
        },
        "id": "jw9ubkjTPQv7",
        "outputId": "d65f5587-fab2-4a28-c17b-f2e75693aa0d"
      },
      "execution_count": 6,
      "outputs": [
        {
          "output_type": "execute_result",
          "data": {
            "text/plain": [
              "id                      10865\n",
              "imdb_id                 10855\n",
              "popularity              10814\n",
              "budget                    557\n",
              "revenue                  4702\n",
              "original_title          10571\n",
              "cast                    10719\n",
              "homepage                 2896\n",
              "director                 5067\n",
              "tagline                  7997\n",
              "keywords                 8804\n",
              "overview                10847\n",
              "runtime                   247\n",
              "genres                   2039\n",
              "production_companies     7445\n",
              "release_date             5909\n",
              "vote_count               1289\n",
              "vote_average               72\n",
              "release_year               56\n",
              "budget_adj               2614\n",
              "revenue_adj              4840\n",
              "dtype: int64"
            ]
          },
          "metadata": {},
          "execution_count": 6
        }
      ]
    },
    {
      "cell_type": "code",
      "source": [
        "# statistic values for each column\n",
        "df.describe()"
      ],
      "metadata": {
        "colab": {
          "base_uri": "https://localhost:8080/",
          "height": 300
        },
        "id": "oDpgqjq6PYlU",
        "outputId": "e50c7b99-7ef3-45e7-c431-e0b9f8540d26"
      },
      "execution_count": 7,
      "outputs": [
        {
          "output_type": "execute_result",
          "data": {
            "text/html": [
              "\n",
              "  <div id=\"df-a934da95-12ce-425e-ad6a-3c982a51c335\">\n",
              "    <div class=\"colab-df-container\">\n",
              "      <div>\n",
              "<style scoped>\n",
              "    .dataframe tbody tr th:only-of-type {\n",
              "        vertical-align: middle;\n",
              "    }\n",
              "\n",
              "    .dataframe tbody tr th {\n",
              "        vertical-align: top;\n",
              "    }\n",
              "\n",
              "    .dataframe thead th {\n",
              "        text-align: right;\n",
              "    }\n",
              "</style>\n",
              "<table border=\"1\" class=\"dataframe\">\n",
              "  <thead>\n",
              "    <tr style=\"text-align: right;\">\n",
              "      <th></th>\n",
              "      <th>id</th>\n",
              "      <th>popularity</th>\n",
              "      <th>budget</th>\n",
              "      <th>revenue</th>\n",
              "      <th>runtime</th>\n",
              "      <th>vote_count</th>\n",
              "      <th>vote_average</th>\n",
              "      <th>release_year</th>\n",
              "      <th>budget_adj</th>\n",
              "      <th>revenue_adj</th>\n",
              "    </tr>\n",
              "  </thead>\n",
              "  <tbody>\n",
              "    <tr>\n",
              "      <th>count</th>\n",
              "      <td>10866.000000</td>\n",
              "      <td>10866.000000</td>\n",
              "      <td>1.086600e+04</td>\n",
              "      <td>1.086600e+04</td>\n",
              "      <td>10866.000000</td>\n",
              "      <td>10866.000000</td>\n",
              "      <td>10866.000000</td>\n",
              "      <td>10866.000000</td>\n",
              "      <td>1.086600e+04</td>\n",
              "      <td>1.086600e+04</td>\n",
              "    </tr>\n",
              "    <tr>\n",
              "      <th>mean</th>\n",
              "      <td>66064.177434</td>\n",
              "      <td>0.646441</td>\n",
              "      <td>1.462570e+07</td>\n",
              "      <td>3.982332e+07</td>\n",
              "      <td>102.070863</td>\n",
              "      <td>217.389748</td>\n",
              "      <td>5.974922</td>\n",
              "      <td>2001.322658</td>\n",
              "      <td>1.755104e+07</td>\n",
              "      <td>5.136436e+07</td>\n",
              "    </tr>\n",
              "    <tr>\n",
              "      <th>std</th>\n",
              "      <td>92130.136561</td>\n",
              "      <td>1.000185</td>\n",
              "      <td>3.091321e+07</td>\n",
              "      <td>1.170035e+08</td>\n",
              "      <td>31.381405</td>\n",
              "      <td>575.619058</td>\n",
              "      <td>0.935142</td>\n",
              "      <td>12.812941</td>\n",
              "      <td>3.430616e+07</td>\n",
              "      <td>1.446325e+08</td>\n",
              "    </tr>\n",
              "    <tr>\n",
              "      <th>min</th>\n",
              "      <td>5.000000</td>\n",
              "      <td>0.000065</td>\n",
              "      <td>0.000000e+00</td>\n",
              "      <td>0.000000e+00</td>\n",
              "      <td>0.000000</td>\n",
              "      <td>10.000000</td>\n",
              "      <td>1.500000</td>\n",
              "      <td>1960.000000</td>\n",
              "      <td>0.000000e+00</td>\n",
              "      <td>0.000000e+00</td>\n",
              "    </tr>\n",
              "    <tr>\n",
              "      <th>25%</th>\n",
              "      <td>10596.250000</td>\n",
              "      <td>0.207583</td>\n",
              "      <td>0.000000e+00</td>\n",
              "      <td>0.000000e+00</td>\n",
              "      <td>90.000000</td>\n",
              "      <td>17.000000</td>\n",
              "      <td>5.400000</td>\n",
              "      <td>1995.000000</td>\n",
              "      <td>0.000000e+00</td>\n",
              "      <td>0.000000e+00</td>\n",
              "    </tr>\n",
              "    <tr>\n",
              "      <th>50%</th>\n",
              "      <td>20669.000000</td>\n",
              "      <td>0.383856</td>\n",
              "      <td>0.000000e+00</td>\n",
              "      <td>0.000000e+00</td>\n",
              "      <td>99.000000</td>\n",
              "      <td>38.000000</td>\n",
              "      <td>6.000000</td>\n",
              "      <td>2006.000000</td>\n",
              "      <td>0.000000e+00</td>\n",
              "      <td>0.000000e+00</td>\n",
              "    </tr>\n",
              "    <tr>\n",
              "      <th>75%</th>\n",
              "      <td>75610.000000</td>\n",
              "      <td>0.713817</td>\n",
              "      <td>1.500000e+07</td>\n",
              "      <td>2.400000e+07</td>\n",
              "      <td>111.000000</td>\n",
              "      <td>145.750000</td>\n",
              "      <td>6.600000</td>\n",
              "      <td>2011.000000</td>\n",
              "      <td>2.085325e+07</td>\n",
              "      <td>3.369710e+07</td>\n",
              "    </tr>\n",
              "    <tr>\n",
              "      <th>max</th>\n",
              "      <td>417859.000000</td>\n",
              "      <td>32.985763</td>\n",
              "      <td>4.250000e+08</td>\n",
              "      <td>2.781506e+09</td>\n",
              "      <td>900.000000</td>\n",
              "      <td>9767.000000</td>\n",
              "      <td>9.200000</td>\n",
              "      <td>2015.000000</td>\n",
              "      <td>4.250000e+08</td>\n",
              "      <td>2.827124e+09</td>\n",
              "    </tr>\n",
              "  </tbody>\n",
              "</table>\n",
              "</div>\n",
              "      <button class=\"colab-df-convert\" onclick=\"convertToInteractive('df-a934da95-12ce-425e-ad6a-3c982a51c335')\"\n",
              "              title=\"Convert this dataframe to an interactive table.\"\n",
              "              style=\"display:none;\">\n",
              "        \n",
              "  <svg xmlns=\"http://www.w3.org/2000/svg\" height=\"24px\"viewBox=\"0 0 24 24\"\n",
              "       width=\"24px\">\n",
              "    <path d=\"M0 0h24v24H0V0z\" fill=\"none\"/>\n",
              "    <path d=\"M18.56 5.44l.94 2.06.94-2.06 2.06-.94-2.06-.94-.94-2.06-.94 2.06-2.06.94zm-11 1L8.5 8.5l.94-2.06 2.06-.94-2.06-.94L8.5 2.5l-.94 2.06-2.06.94zm10 10l.94 2.06.94-2.06 2.06-.94-2.06-.94-.94-2.06-.94 2.06-2.06.94z\"/><path d=\"M17.41 7.96l-1.37-1.37c-.4-.4-.92-.59-1.43-.59-.52 0-1.04.2-1.43.59L10.3 9.45l-7.72 7.72c-.78.78-.78 2.05 0 2.83L4 21.41c.39.39.9.59 1.41.59.51 0 1.02-.2 1.41-.59l7.78-7.78 2.81-2.81c.8-.78.8-2.07 0-2.86zM5.41 20L4 18.59l7.72-7.72 1.47 1.35L5.41 20z\"/>\n",
              "  </svg>\n",
              "      </button>\n",
              "      \n",
              "  <style>\n",
              "    .colab-df-container {\n",
              "      display:flex;\n",
              "      flex-wrap:wrap;\n",
              "      gap: 12px;\n",
              "    }\n",
              "\n",
              "    .colab-df-convert {\n",
              "      background-color: #E8F0FE;\n",
              "      border: none;\n",
              "      border-radius: 50%;\n",
              "      cursor: pointer;\n",
              "      display: none;\n",
              "      fill: #1967D2;\n",
              "      height: 32px;\n",
              "      padding: 0 0 0 0;\n",
              "      width: 32px;\n",
              "    }\n",
              "\n",
              "    .colab-df-convert:hover {\n",
              "      background-color: #E2EBFA;\n",
              "      box-shadow: 0px 1px 2px rgba(60, 64, 67, 0.3), 0px 1px 3px 1px rgba(60, 64, 67, 0.15);\n",
              "      fill: #174EA6;\n",
              "    }\n",
              "\n",
              "    [theme=dark] .colab-df-convert {\n",
              "      background-color: #3B4455;\n",
              "      fill: #D2E3FC;\n",
              "    }\n",
              "\n",
              "    [theme=dark] .colab-df-convert:hover {\n",
              "      background-color: #434B5C;\n",
              "      box-shadow: 0px 1px 3px 1px rgba(0, 0, 0, 0.15);\n",
              "      filter: drop-shadow(0px 1px 2px rgba(0, 0, 0, 0.3));\n",
              "      fill: #FFFFFF;\n",
              "    }\n",
              "  </style>\n",
              "\n",
              "      <script>\n",
              "        const buttonEl =\n",
              "          document.querySelector('#df-a934da95-12ce-425e-ad6a-3c982a51c335 button.colab-df-convert');\n",
              "        buttonEl.style.display =\n",
              "          google.colab.kernel.accessAllowed ? 'block' : 'none';\n",
              "\n",
              "        async function convertToInteractive(key) {\n",
              "          const element = document.querySelector('#df-a934da95-12ce-425e-ad6a-3c982a51c335');\n",
              "          const dataTable =\n",
              "            await google.colab.kernel.invokeFunction('convertToInteractive',\n",
              "                                                     [key], {});\n",
              "          if (!dataTable) return;\n",
              "\n",
              "          const docLinkHtml = 'Like what you see? Visit the ' +\n",
              "            '<a target=\"_blank\" href=https://colab.research.google.com/notebooks/data_table.ipynb>data table notebook</a>'\n",
              "            + ' to learn more about interactive tables.';\n",
              "          element.innerHTML = '';\n",
              "          dataTable['output_type'] = 'display_data';\n",
              "          await google.colab.output.renderOutput(dataTable, element);\n",
              "          const docLink = document.createElement('div');\n",
              "          docLink.innerHTML = docLinkHtml;\n",
              "          element.appendChild(docLink);\n",
              "        }\n",
              "      </script>\n",
              "    </div>\n",
              "  </div>\n",
              "  "
            ],
            "text/plain": [
              "                  id    popularity  ...    budget_adj   revenue_adj\n",
              "count   10866.000000  10866.000000  ...  1.086600e+04  1.086600e+04\n",
              "mean    66064.177434      0.646441  ...  1.755104e+07  5.136436e+07\n",
              "std     92130.136561      1.000185  ...  3.430616e+07  1.446325e+08\n",
              "min         5.000000      0.000065  ...  0.000000e+00  0.000000e+00\n",
              "25%     10596.250000      0.207583  ...  0.000000e+00  0.000000e+00\n",
              "50%     20669.000000      0.383856  ...  0.000000e+00  0.000000e+00\n",
              "75%     75610.000000      0.713817  ...  2.085325e+07  3.369710e+07\n",
              "max    417859.000000     32.985763  ...  4.250000e+08  2.827124e+09\n",
              "\n",
              "[8 rows x 10 columns]"
            ]
          },
          "metadata": {},
          "execution_count": 7
        }
      ]
    },
    {
      "cell_type": "code",
      "source": [
        "df.info()"
      ],
      "metadata": {
        "colab": {
          "base_uri": "https://localhost:8080/"
        },
        "id": "iMh56KzZPlod",
        "outputId": "5bcb3581-e24a-455a-8609-641486221941"
      },
      "execution_count": 9,
      "outputs": [
        {
          "output_type": "stream",
          "name": "stdout",
          "text": [
            "<class 'pandas.core.frame.DataFrame'>\n",
            "RangeIndex: 10866 entries, 0 to 10865\n",
            "Data columns (total 21 columns):\n",
            " #   Column                Non-Null Count  Dtype  \n",
            "---  ------                --------------  -----  \n",
            " 0   id                    10866 non-null  int64  \n",
            " 1   imdb_id               10856 non-null  object \n",
            " 2   popularity            10866 non-null  float64\n",
            " 3   budget                10866 non-null  int64  \n",
            " 4   revenue               10866 non-null  int64  \n",
            " 5   original_title        10866 non-null  object \n",
            " 6   cast                  10790 non-null  object \n",
            " 7   homepage              2936 non-null   object \n",
            " 8   director              10822 non-null  object \n",
            " 9   tagline               8042 non-null   object \n",
            " 10  keywords              9373 non-null   object \n",
            " 11  overview              10862 non-null  object \n",
            " 12  runtime               10866 non-null  int64  \n",
            " 13  genres                10843 non-null  object \n",
            " 14  production_companies  9836 non-null   object \n",
            " 15  release_date          10866 non-null  object \n",
            " 16  vote_count            10866 non-null  int64  \n",
            " 17  vote_average          10866 non-null  float64\n",
            " 18  release_year          10866 non-null  int64  \n",
            " 19  budget_adj            10866 non-null  float64\n",
            " 20  revenue_adj           10866 non-null  float64\n",
            "dtypes: float64(4), int64(6), object(11)\n",
            "memory usage: 1.7+ MB\n"
          ]
        }
      ]
    },
    {
      "cell_type": "code",
      "source": [
        "df.isnull().sum()"
      ],
      "metadata": {
        "colab": {
          "base_uri": "https://localhost:8080/"
        },
        "id": "7bDqGbHjPq6q",
        "outputId": "8cf14d9a-6bd8-41c2-c073-297f31de549a"
      },
      "execution_count": 10,
      "outputs": [
        {
          "output_type": "execute_result",
          "data": {
            "text/plain": [
              "id                         0\n",
              "imdb_id                   10\n",
              "popularity                 0\n",
              "budget                     0\n",
              "revenue                    0\n",
              "original_title             0\n",
              "cast                      76\n",
              "homepage                7930\n",
              "director                  44\n",
              "tagline                 2824\n",
              "keywords                1493\n",
              "overview                   4\n",
              "runtime                    0\n",
              "genres                    23\n",
              "production_companies    1030\n",
              "release_date               0\n",
              "vote_count                 0\n",
              "vote_average               0\n",
              "release_year               0\n",
              "budget_adj                 0\n",
              "revenue_adj                0\n",
              "dtype: int64"
            ]
          },
          "metadata": {},
          "execution_count": 10
        }
      ]
    },
    {
      "cell_type": "code",
      "source": [
        "# dropping unuseful columns \n",
        "df.drop(['id','imdb_id', 'homepage','overview'],axis=1,inplace=True)  # do not forget inplace \n",
        "\n",
        "# Ways to handle missing data\n",
        "# For all missing data with object as datatype , I fill in with string \"missing\"\n",
        "df['cast'].fillna('missing',inplace=True )\n",
        "df['director'].fillna('missing',inplace=True)\n",
        "df['tagline'].fillna('missing',inplace=True)\n",
        "df['keywords'].fillna('missing',inplace=True)\n",
        "df['genres'].fillna('missing',inplace=True)\n",
        "df['production_companies'].fillna('missing',inplace=True) \n",
        "df['budget'] = df['budget'].replace(0, np.NAN) \n",
        "# although there is no null in budget, but we would find there is a problem when we calculate df['budget'].median()\n",
        "# Will deal with all the 0 value in budget later."
      ],
      "metadata": {
        "id": "LmZX6yLsQVmc"
      },
      "execution_count": 11,
      "outputs": []
    },
    {
      "cell_type": "code",
      "source": [
        "# confirm the data after cleaning missing data\n",
        "df.isnull().sum()"
      ],
      "metadata": {
        "colab": {
          "base_uri": "https://localhost:8080/"
        },
        "id": "b4cyeayhQgjT",
        "outputId": "e6e2dabe-f4d9-4e04-b79e-1db52dba336c"
      },
      "execution_count": 12,
      "outputs": [
        {
          "output_type": "execute_result",
          "data": {
            "text/plain": [
              "popularity                 0\n",
              "budget                  5696\n",
              "revenue                    0\n",
              "original_title             0\n",
              "cast                       0\n",
              "director                   0\n",
              "tagline                    0\n",
              "keywords                   0\n",
              "runtime                    0\n",
              "genres                     0\n",
              "production_companies       0\n",
              "release_date               0\n",
              "vote_count                 0\n",
              "vote_average               0\n",
              "release_year               0\n",
              "budget_adj                 0\n",
              "revenue_adj                0\n",
              "dtype: int64"
            ]
          },
          "metadata": {},
          "execution_count": 12
        }
      ]
    },
    {
      "cell_type": "code",
      "source": [
        "# check if there are some duplicates \n",
        "df.duplicated().sum()"
      ],
      "metadata": {
        "colab": {
          "base_uri": "https://localhost:8080/"
        },
        "id": "XKDJLMUzQmOa",
        "outputId": "d8977cfb-76a4-4342-8a5d-ba1e050b1729"
      },
      "execution_count": 13,
      "outputs": [
        {
          "output_type": "execute_result",
          "data": {
            "text/plain": [
              "1"
            ]
          },
          "metadata": {},
          "execution_count": 13
        }
      ]
    },
    {
      "cell_type": "code",
      "source": [
        "# drop the duplicates\n",
        "# do not forget inplace = True \n",
        "df.drop_duplicates(inplace=True)    \n",
        "# confirm again \n",
        "df.duplicated().sum()   "
      ],
      "metadata": {
        "colab": {
          "base_uri": "https://localhost:8080/"
        },
        "id": "sjYJ_x-pQo7i",
        "outputId": "bd1d0b7c-fc2b-462d-ab5f-8fc3f9957b95"
      },
      "execution_count": 14,
      "outputs": [
        {
          "output_type": "execute_result",
          "data": {
            "text/plain": [
              "0"
            ]
          },
          "metadata": {},
          "execution_count": 14
        }
      ]
    },
    {
      "cell_type": "code",
      "source": [
        "# visulize each variables \n",
        "df.hist(figsize=(15,15));"
      ],
      "metadata": {
        "colab": {
          "base_uri": "https://localhost:8080/",
          "height": 892
        },
        "id": "ca5GUIXWRYjy",
        "outputId": "838f0d73-d4ee-44ee-d3b0-4566a4d65aa1"
      },
      "execution_count": 15,
      "outputs": [
        {
          "output_type": "display_data",
          "data": {
            "image/png": "[encoded data removed]",
            "text/plain": [
              "<Figure size 1080x1080 with 9 Axes>"
            ]
          },
          "metadata": {
            "needs_background": "light"
          }
        }
      ]
    },
    {
      "cell_type": "markdown",
      "source": [
        "Exploration with Visuals and Conclusions\n",
        "\n",
        "---\n",
        "Question 1. Does higher budget mean higher popularity ? Is there a coefficent relationship ?"
      ],
      "metadata": {
        "id": "cuBUswcFSE_a"
      }
    },
    {
      "cell_type": "code",
      "source": [
        "# plot the relation between budget and popularity \n",
        "x = df['budget']\n",
        "y = df['popularity'] \n",
        "\n",
        "plt.scatter(x,y)\n",
        "plt.title('Average Popularity by Different budget',fontsize=12)\n",
        "plt.xlabel('budget',fontsize=10)\n",
        "plt.ylabel('popularity',fontsize=10)"
      ],
      "metadata": {
        "colab": {
          "base_uri": "https://localhost:8080/",
          "height": 312
        },
        "id": "1tEnXW0rSHUq",
        "outputId": "6dc2a9b7-4933-4f07-e733-93915cca5509"
      },
      "execution_count": 17,
      "outputs": [
        {
          "output_type": "execute_result",
          "data": {
            "text/plain": [
              "Text(0, 0.5, 'popularity')"
            ]
          },
          "metadata": {},
          "execution_count": 17
        },
        {
          "output_type": "display_data",
          "data": {
            "image/png": "[encoded data removed]",
            "text/plain": [
              "<Figure size 432x288 with 1 Axes>"
            ]
          },
          "metadata": {
            "needs_background": "light"
          }
        }
      ]
    },
    {
      "cell_type": "markdown",
      "source": [
        "Through this scatterplot, it is unable to identify strong relatioship between the budget and the popularity. \n",
        "\n",
        "We will then try to compare the data in another way: create two groups based on median value of budget"
      ],
      "metadata": {
        "id": "CZGgIakCUNKJ"
      }
    },
    {
      "cell_type": "code",
      "source": [
        "# based on median budget value to divide the budget into two groups : low and high\n",
        "m = df['budget'].median()\n",
        "low_budg =  df.query('budget < {}'.format(m))\n",
        "high_budg =  df.query('budget >= {}'.format(m))"
      ],
      "metadata": {
        "id": "080DsMzCUdVx"
      },
      "execution_count": 18,
      "outputs": []
    },
    {
      "cell_type": "code",
      "source": [
        "# check low budget and high budget mean values respecively \n",
        "mean_popularity_of_low_budget = low_budg['popularity'].mean()\n",
        "mean_popularity_of_high_budget = high_budg['popularity'].mean()"
      ],
      "metadata": {
        "id": "J_FOeuYZUftC"
      },
      "execution_count": 19,
      "outputs": []
    },
    {
      "cell_type": "code",
      "source": [
        "# create a bar chart with the values we get above \n",
        "locations = [1,2]\n",
        "heights = [mean_popularity_of_low_budget , mean_popularity_of_high_budget]\n",
        "labels=['low','high']\n",
        "plt.bar(locations, heights, tick_label = labels)\n",
        "plt.title('Average Popularity by Different Budget')\n",
        "plt.xlabel('Budgets')\n",
        "plt.ylabel('Average Popularity')"
      ],
      "metadata": {
        "colab": {
          "base_uri": "https://localhost:8080/",
          "height": 312
        },
        "id": "jo0VtwYwUhOk",
        "outputId": "19219bb5-2fc3-4b1d-8190-43eae95f4923"
      },
      "execution_count": 20,
      "outputs": [
        {
          "output_type": "execute_result",
          "data": {
            "text/plain": [
              "Text(0, 0.5, 'Average Popularity')"
            ]
          },
          "metadata": {},
          "execution_count": 20
        },
        {
          "output_type": "display_data",
          "data": {
            "image/png": "[encoded data removed]",
            "text/plain": [
              "<Figure size 432x288 with 1 Axes>"
            ]
          },
          "metadata": {
            "needs_background": "light"
          }
        }
      ]
    },
    {
      "cell_type": "code",
      "source": [
        "increase_percentage = (mean_popularity_of_high_budget - mean_popularity_of_low_budget) / mean_popularity_of_high_budget * 100\n",
        "increase_percentage"
      ],
      "metadata": {
        "colab": {
          "base_uri": "https://localhost:8080/"
        },
        "id": "8rDB02xUUnra",
        "outputId": "c5655dfb-f9d9-4b70-9ca4-76eee045f179"
      },
      "execution_count": 21,
      "outputs": [
        {
          "output_type": "execute_result",
          "data": {
            "text/plain": [
              "55.50933772947093"
            ]
          },
          "metadata": {},
          "execution_count": 21
        }
      ]
    },
    {
      "cell_type": "markdown",
      "source": [
        "Conclusion for Q1: \n",
        "\n",
        "Through this bar plot, we can clearly see that high budget movies are more likely to have higher popularity. \n",
        "\n",
        "Higher budget movies also gains more than 50% higher popularity than low budget movies.\n",
        "\n",
        "---\n",
        "Q2: What length will receive the highest popularity?\n",
        "\n"
      ],
      "metadata": {
        "id": "f1qSEOZ-UrKR"
      }
    },
    {
      "cell_type": "code",
      "source": [
        "# 3 groups will be created with query().  <60 min: short   , 60 min to 120 min: medium ,  >120 min: long \n",
        "short =  df.query('runtime < {}'.format(100))\n",
        "medium =  df.query('runtime < {}'.format(200))\n",
        "long = df.query('runtime > {}'.format(200))"
      ],
      "metadata": {
        "id": "2lao-XxyVDFK"
      },
      "execution_count": 22,
      "outputs": []
    },
    {
      "cell_type": "code",
      "source": [
        "# check mean popularity of different movie lengths \n",
        "mean_popularity_of_short = short['popularity'].mean()\n",
        "mean_popularity_of_medium = medium['popularity'].mean()\n",
        "mean_popularity_of_long = long['popularity'].mean()"
      ],
      "metadata": {
        "id": "ap96m_6qVetR"
      },
      "execution_count": 23,
      "outputs": []
    },
    {
      "cell_type": "code",
      "source": [
        "locations = [1,2,3]\n",
        "heights = [mean_popularity_of_short, mean_popularity_of_medium, mean_popularity_of_long]\n",
        "labels=['Short','Medium','Long']\n",
        "plt.bar(locations, heights, tick_label = labels)\n",
        "plt.title('Average Popularity by Different Runtime')\n",
        "plt.xlabel('Runtime')\n",
        "plt.ylabel('Average Popularity')"
      ],
      "metadata": {
        "colab": {
          "base_uri": "https://localhost:8080/",
          "height": 312
        },
        "id": "4QJIIMbrVlxB",
        "outputId": "eaeb8840-ffdf-4d02-a8c8-16a120370901"
      },
      "execution_count": 25,
      "outputs": [
        {
          "output_type": "execute_result",
          "data": {
            "text/plain": [
              "Text(0, 0.5, 'Average Popularity')"
            ]
          },
          "metadata": {},
          "execution_count": 25
        },
        {
          "output_type": "display_data",
          "data": {
            "image/png": "[encoded data removed]",
            "text/plain": [
              "<Figure size 432x288 with 1 Axes>"
            ]
          },
          "metadata": {
            "needs_background": "light"
          }
        }
      ]
    },
    {
      "cell_type": "markdown",
      "source": [
        "\n",
        "Based on the bar chart, the movies should not be too long or too short. Medium length has a higher popularity. However it is difficult to tell the best length of runtime. Scatter plot may be a better choice."
      ],
      "metadata": {
        "id": "GxJgdDXVXRAZ"
      }
    },
    {
      "cell_type": "code",
      "source": [
        "# plot the relation between runtime and popularity \n",
        "x = df['runtime']\n",
        "y = df['popularity'] \n",
        "\n",
        "plt.scatter(x,y)\n",
        "\n",
        "plt.title('Average Popularity by Different Runtime',fontsize=12)\n",
        "plt.xlabel('runtime(minutes)',fontsize=10)\n",
        "plt.ylabel('popularity',fontsize=10)"
      ],
      "metadata": {
        "colab": {
          "base_uri": "https://localhost:8080/",
          "height": 312
        },
        "id": "1KdWqpkuV0vx",
        "outputId": "7cbec7a7-90e6-4e0d-c06e-25f297641c1e"
      },
      "execution_count": 30,
      "outputs": [
        {
          "output_type": "execute_result",
          "data": {
            "text/plain": [
              "Text(0, 0.5, 'popularity')"
            ]
          },
          "metadata": {},
          "execution_count": 30
        },
        {
          "output_type": "display_data",
          "data": {
            "image/png": "[encoded data removed]",
            "text/plain": [
              "<Figure size 432x288 with 1 Axes>"
            ]
          },
          "metadata": {
            "needs_background": "light"
          }
        }
      ]
    },
    {
      "cell_type": "code",
      "source": [
        ""
      ],
      "metadata": {
        "id": "a4Zr0-nuYFGt"
      },
      "execution_count": null,
      "outputs": []
    },
    {
      "cell_type": "markdown",
      "source": [
        "Conclusion Q2:\n",
        "\n",
        "Based on the 2 plots above, it is false to say the longer the runtime, the higher the popularity.\n",
        "\n",
        "However, movies within 200 minutes has higher popularity. Movies over 200 minutes have lower popularity.\n",
        "\n",
        "-----\n",
        "Q3 : Higher popularity means higher profits ?"
      ],
      "metadata": {
        "id": "JCVCpLyTXhIh"
      }
    },
    {
      "cell_type": "code",
      "source": [
        "# we need to get the mean of popularity \n",
        "m_popularity = df['popularity'].mean()\n",
        "lower_popularity =  df.query('popularity < {}'.format(m_popularity))\n",
        "higher_popularity =  df.query('popularity >= {}'.format(m_popularity))"
      ],
      "metadata": {
        "id": "Ni3YTIoEauya"
      },
      "execution_count": 35,
      "outputs": []
    },
    {
      "cell_type": "code",
      "source": [
        "# create a new column called profit. profit = Revenue - budget\n",
        "df['profit'] = df['revenue'] - df['budget']\n",
        "#df['profit'].head(20)\n",
        "#df.head()"
      ],
      "metadata": {
        "id": "3lf6V14Ka054"
      },
      "execution_count": 36,
      "outputs": []
    },
    {
      "cell_type": "code",
      "source": [
        "# average net profit for low_popularity and high_popularity\n",
        "mean_profit_of_low_popularity = lower_popularity['profit'].mean()\n",
        "mean_profit_of_high_popularity = higher_popularity['profit'].mean()\n",
        "# df.head()"
      ],
      "metadata": {
        "id": "47oIKnY3a3tn"
      },
      "execution_count": 37,
      "outputs": []
    },
    {
      "cell_type": "code",
      "source": [
        "# create a bar chart with the values we get above \n",
        "locations = [1,2]\n",
        "heights = [mean_profit_of_low_popularity, mean_profit_of_high_popularity]\n",
        "labels=['low','high']\n",
        "plt.bar(locations, heights, tick_label = labels)\n",
        "plt.title('Average profit by Different Popularity')\n",
        "plt.xlabel('Popularity')\n",
        "plt.ylabel('Average Profit')"
      ],
      "metadata": {
        "colab": {
          "base_uri": "https://localhost:8080/",
          "height": 312
        },
        "id": "OyZKupb8biwx",
        "outputId": "075a33e0-3626-49b4-d50d-c77e5b393821"
      },
      "execution_count": 38,
      "outputs": [
        {
          "output_type": "execute_result",
          "data": {
            "text/plain": [
              "Text(0, 0.5, 'Average Profit')"
            ]
          },
          "metadata": {},
          "execution_count": 38
        },
        {
          "output_type": "display_data",
          "data": {
            "image/png": "[encoded data removed]",
            "text/plain": [
              "<Figure size 432x288 with 1 Axes>"
            ]
          },
          "metadata": {
            "needs_background": "light"
          }
        }
      ]
    },
    {
      "cell_type": "markdown",
      "source": [
        "Conclusion for Question 3: \n",
        "\n",
        "Higher popularity = Higher average profit\n",
        "\n",
        "----\n",
        "\n",
        "Q4: What Features are Associate with Top 10 Revenue Movies ?"
      ],
      "metadata": {
        "id": "CWStS_JcbsPY"
      }
    },
    {
      "cell_type": "code",
      "source": [
        "top10_revenue = df.nlargest(10,'revenue')\n",
        "top10_revenue.hist(figsize=(12,12))"
      ],
      "metadata": {
        "colab": {
          "base_uri": "https://localhost:8080/",
          "height": 955
        },
        "id": "Kn7xaRpablLv",
        "outputId": "60d459bb-f4d1-4fc6-f9b3-18c21949c6ea"
      },
      "execution_count": 39,
      "outputs": [
        {
          "output_type": "execute_result",
          "data": {
            "text/plain": [
              "array([[<matplotlib.axes._subplots.AxesSubplot object at 0x7f12a9740250>,\n",
              "        <matplotlib.axes._subplots.AxesSubplot object at 0x7f12a906d890>,\n",
              "        <matplotlib.axes._subplots.AxesSubplot object at 0x7f12a9a43e90>],\n",
              "       [<matplotlib.axes._subplots.AxesSubplot object at 0x7f12a99dc4d0>,\n",
              "        <matplotlib.axes._subplots.AxesSubplot object at 0x7f12a9a3bad0>,\n",
              "        <matplotlib.axes._subplots.AxesSubplot object at 0x7f12a9af2110>],\n",
              "       [<matplotlib.axes._subplots.AxesSubplot object at 0x7f12a9b3d790>,\n",
              "        <matplotlib.axes._subplots.AxesSubplot object at 0x7f12a9afcb50>,\n",
              "        <matplotlib.axes._subplots.AxesSubplot object at 0x7f12a9afcc50>],\n",
              "       [<matplotlib.axes._subplots.AxesSubplot object at 0x7f12a9abb450>,\n",
              "        <matplotlib.axes._subplots.AxesSubplot object at 0x7f12a8fc5f50>,\n",
              "        <matplotlib.axes._subplots.AxesSubplot object at 0x7f12a8f86590>]],\n",
              "      dtype=object)"
            ]
          },
          "metadata": {},
          "execution_count": 39
        },
        {
          "output_type": "display_data",
          "data": {
            "image/png": "[encoded data removed]",
            "text/plain": [
              "<Figure size 864x864 with 12 Axes>"
            ]
          },
          "metadata": {
            "needs_background": "light"
          }
        }
      ]
    },
    {
      "cell_type": "markdown",
      "source": [
        "\n",
        "Conclusion for Q4:\n",
        "\n",
        "Based on the histogram above, we have listed some characteristics we can conclude from the top 10 movies. \n",
        "\n",
        "Runtime ranges from 100 mins to 200 mins. The released year are between 1995 to 2015.\n",
        "\n",
        "----\n",
        "\n",
        "Q5: Which genres are most popular from year to year?\n"
      ],
      "metadata": {
        "id": "NyziVynYc4xX"
      }
    },
    {
      "cell_type": "code",
      "source": [
        "#The following function can give all the counts for per category \n",
        "def extract_data(column_name):\n",
        "    data = df[column_name].str.cat(sep = '|') # put all the genres into a long string  \n",
        "    # Create pandas series and store the values separately\n",
        "    data = pd.Series(data.split('|'))   # split the genres by |\n",
        "    # Display value count in descending order\n",
        "    count = data.value_counts(ascending = False) # count the occurrence of each genres \n",
        "    return count"
      ],
      "metadata": {
        "id": "hLXtSq8GdWfP"
      },
      "execution_count": 40,
      "outputs": []
    },
    {
      "cell_type": "code",
      "source": [
        "# use the function created above to split genres and count the occurrence of each one\n",
        "genre_count = extract_data('genres')\n",
        "\n",
        "#create a separate dataframe to plot\n",
        "df_genre_counts = pd.DataFrame({'genres': genre_count.index, 'count': genre_count.values }) \n",
        "df_genre_counts\n",
        "#to show number of movies for each genre"
      ],
      "metadata": {
        "colab": {
          "base_uri": "https://localhost:8080/",
          "height": 708
        },
        "id": "YAifkRbfdcng",
        "outputId": "e86fda69-3f9f-49f3-c147-a63c30a75294"
      },
      "execution_count": 44,
      "outputs": [
        {
          "output_type": "execute_result",
          "data": {
            "text/html": [
              "\n",
              "  <div id=\"df-1b7fd142-c8dc-4c90-941b-f6c43c9d5564\">\n",
              "    <div class=\"colab-df-container\">\n",
              "      <div>\n",
              "<style scoped>\n",
              "    .dataframe tbody tr th:only-of-type {\n",
              "        vertical-align: middle;\n",
              "    }\n",
              "\n",
              "    .dataframe tbody tr th {\n",
              "        vertical-align: top;\n",
              "    }\n",
              "\n",
              "    .dataframe thead th {\n",
              "        text-align: right;\n",
              "    }\n",
              "</style>\n",
              "<table border=\"1\" class=\"dataframe\">\n",
              "  <thead>\n",
              "    <tr style=\"text-align: right;\">\n",
              "      <th></th>\n",
              "      <th>genres</th>\n",
              "      <th>count</th>\n",
              "    </tr>\n",
              "  </thead>\n",
              "  <tbody>\n",
              "    <tr>\n",
              "      <th>0</th>\n",
              "      <td>Drama</td>\n",
              "      <td>4760</td>\n",
              "    </tr>\n",
              "    <tr>\n",
              "      <th>1</th>\n",
              "      <td>Comedy</td>\n",
              "      <td>3793</td>\n",
              "    </tr>\n",
              "    <tr>\n",
              "      <th>2</th>\n",
              "      <td>Thriller</td>\n",
              "      <td>2907</td>\n",
              "    </tr>\n",
              "    <tr>\n",
              "      <th>3</th>\n",
              "      <td>Action</td>\n",
              "      <td>2384</td>\n",
              "    </tr>\n",
              "    <tr>\n",
              "      <th>4</th>\n",
              "      <td>Romance</td>\n",
              "      <td>1712</td>\n",
              "    </tr>\n",
              "    <tr>\n",
              "      <th>5</th>\n",
              "      <td>Horror</td>\n",
              "      <td>1637</td>\n",
              "    </tr>\n",
              "    <tr>\n",
              "      <th>6</th>\n",
              "      <td>Adventure</td>\n",
              "      <td>1471</td>\n",
              "    </tr>\n",
              "    <tr>\n",
              "      <th>7</th>\n",
              "      <td>Crime</td>\n",
              "      <td>1354</td>\n",
              "    </tr>\n",
              "    <tr>\n",
              "      <th>8</th>\n",
              "      <td>Family</td>\n",
              "      <td>1231</td>\n",
              "    </tr>\n",
              "    <tr>\n",
              "      <th>9</th>\n",
              "      <td>Science Fiction</td>\n",
              "      <td>1229</td>\n",
              "    </tr>\n",
              "    <tr>\n",
              "      <th>10</th>\n",
              "      <td>Fantasy</td>\n",
              "      <td>916</td>\n",
              "    </tr>\n",
              "    <tr>\n",
              "      <th>11</th>\n",
              "      <td>Mystery</td>\n",
              "      <td>810</td>\n",
              "    </tr>\n",
              "    <tr>\n",
              "      <th>12</th>\n",
              "      <td>Animation</td>\n",
              "      <td>699</td>\n",
              "    </tr>\n",
              "    <tr>\n",
              "      <th>13</th>\n",
              "      <td>Documentary</td>\n",
              "      <td>520</td>\n",
              "    </tr>\n",
              "    <tr>\n",
              "      <th>14</th>\n",
              "      <td>Music</td>\n",
              "      <td>408</td>\n",
              "    </tr>\n",
              "    <tr>\n",
              "      <th>15</th>\n",
              "      <td>History</td>\n",
              "      <td>334</td>\n",
              "    </tr>\n",
              "    <tr>\n",
              "      <th>16</th>\n",
              "      <td>War</td>\n",
              "      <td>270</td>\n",
              "    </tr>\n",
              "    <tr>\n",
              "      <th>17</th>\n",
              "      <td>Foreign</td>\n",
              "      <td>188</td>\n",
              "    </tr>\n",
              "    <tr>\n",
              "      <th>18</th>\n",
              "      <td>TV Movie</td>\n",
              "      <td>167</td>\n",
              "    </tr>\n",
              "    <tr>\n",
              "      <th>19</th>\n",
              "      <td>Western</td>\n",
              "      <td>165</td>\n",
              "    </tr>\n",
              "    <tr>\n",
              "      <th>20</th>\n",
              "      <td>missing</td>\n",
              "      <td>23</td>\n",
              "    </tr>\n",
              "  </tbody>\n",
              "</table>\n",
              "</div>\n",
              "      <button class=\"colab-df-convert\" onclick=\"convertToInteractive('df-1b7fd142-c8dc-4c90-941b-f6c43c9d5564')\"\n",
              "              title=\"Convert this dataframe to an interactive table.\"\n",
              "              style=\"display:none;\">\n",
              "        \n",
              "  <svg xmlns=\"http://www.w3.org/2000/svg\" height=\"24px\"viewBox=\"0 0 24 24\"\n",
              "       width=\"24px\">\n",
              "    <path d=\"M0 0h24v24H0V0z\" fill=\"none\"/>\n",
              "    <path d=\"M18.56 5.44l.94 2.06.94-2.06 2.06-.94-2.06-.94-.94-2.06-.94 2.06-2.06.94zm-11 1L8.5 8.5l.94-2.06 2.06-.94-2.06-.94L8.5 2.5l-.94 2.06-2.06.94zm10 10l.94 2.06.94-2.06 2.06-.94-2.06-.94-.94-2.06-.94 2.06-2.06.94z\"/><path d=\"M17.41 7.96l-1.37-1.37c-.4-.4-.92-.59-1.43-.59-.52 0-1.04.2-1.43.59L10.3 9.45l-7.72 7.72c-.78.78-.78 2.05 0 2.83L4 21.41c.39.39.9.59 1.41.59.51 0 1.02-.2 1.41-.59l7.78-7.78 2.81-2.81c.8-.78.8-2.07 0-2.86zM5.41 20L4 18.59l7.72-7.72 1.47 1.35L5.41 20z\"/>\n",
              "  </svg>\n",
              "      </button>\n",
              "      \n",
              "  <style>\n",
              "    .colab-df-container {\n",
              "      display:flex;\n",
              "      flex-wrap:wrap;\n",
              "      gap: 12px;\n",
              "    }\n",
              "\n",
              "    .colab-df-convert {\n",
              "      background-color: #E8F0FE;\n",
              "      border: none;\n",
              "      border-radius: 50%;\n",
              "      cursor: pointer;\n",
              "      display: none;\n",
              "      fill: #1967D2;\n",
              "      height: 32px;\n",
              "      padding: 0 0 0 0;\n",
              "      width: 32px;\n",
              "    }\n",
              "\n",
              "    .colab-df-convert:hover {\n",
              "      background-color: #E2EBFA;\n",
              "      box-shadow: 0px 1px 2px rgba(60, 64, 67, 0.3), 0px 1px 3px 1px rgba(60, 64, 67, 0.15);\n",
              "      fill: #174EA6;\n",
              "    }\n",
              "\n",
              "    [theme=dark] .colab-df-convert {\n",
              "      background-color: #3B4455;\n",
              "      fill: #D2E3FC;\n",
              "    }\n",
              "\n",
              "    [theme=dark] .colab-df-convert:hover {\n",
              "      background-color: #434B5C;\n",
              "      box-shadow: 0px 1px 3px 1px rgba(0, 0, 0, 0.15);\n",
              "      filter: drop-shadow(0px 1px 2px rgba(0, 0, 0, 0.3));\n",
              "      fill: #FFFFFF;\n",
              "    }\n",
              "  </style>\n",
              "\n",
              "      <script>\n",
              "        const buttonEl =\n",
              "          document.querySelector('#df-1b7fd142-c8dc-4c90-941b-f6c43c9d5564 button.colab-df-convert');\n",
              "        buttonEl.style.display =\n",
              "          google.colab.kernel.accessAllowed ? 'block' : 'none';\n",
              "\n",
              "        async function convertToInteractive(key) {\n",
              "          const element = document.querySelector('#df-1b7fd142-c8dc-4c90-941b-f6c43c9d5564');\n",
              "          const dataTable =\n",
              "            await google.colab.kernel.invokeFunction('convertToInteractive',\n",
              "                                                     [key], {});\n",
              "          if (!dataTable) return;\n",
              "\n",
              "          const docLinkHtml = 'Like what you see? Visit the ' +\n",
              "            '<a target=\"_blank\" href=https://colab.research.google.com/notebooks/data_table.ipynb>data table notebook</a>'\n",
              "            + ' to learn more about interactive tables.';\n",
              "          element.innerHTML = '';\n",
              "          dataTable['output_type'] = 'display_data';\n",
              "          await google.colab.output.renderOutput(dataTable, element);\n",
              "          const docLink = document.createElement('div');\n",
              "          docLink.innerHTML = docLinkHtml;\n",
              "          element.appendChild(docLink);\n",
              "        }\n",
              "      </script>\n",
              "    </div>\n",
              "  </div>\n",
              "  "
            ],
            "text/plain": [
              "             genres  count\n",
              "0             Drama   4760\n",
              "1            Comedy   3793\n",
              "2          Thriller   2907\n",
              "3            Action   2384\n",
              "4           Romance   1712\n",
              "5            Horror   1637\n",
              "6         Adventure   1471\n",
              "7             Crime   1354\n",
              "8            Family   1231\n",
              "9   Science Fiction   1229\n",
              "10          Fantasy    916\n",
              "11          Mystery    810\n",
              "12        Animation    699\n",
              "13      Documentary    520\n",
              "14            Music    408\n",
              "15          History    334\n",
              "16              War    270\n",
              "17          Foreign    188\n",
              "18         TV Movie    167\n",
              "19          Western    165\n",
              "20          missing     23"
            ]
          },
          "metadata": {},
          "execution_count": 44
        }
      ]
    },
    {
      "cell_type": "markdown",
      "source": [
        "Create barplot for easy visualization"
      ],
      "metadata": {
        "id": "4sxs27t8dwpn"
      }
    },
    {
      "cell_type": "code",
      "source": [
        "f, ax = plt.subplots(figsize=(23, 9))\n",
        "# use the dataframe just created as the input data \n",
        "sns.barplot(x = 'count', y = 'genres', data=df_genre_counts) # how to get the data is the key #using sns\n",
        "ax.set_title(' occurences per genre ')\n",
        "ax.set_xlabel('occurrences')\n",
        "ax.set_ylabel('genres')\n",
        "plt.show()"
      ],
      "metadata": {
        "colab": {
          "base_uri": "https://localhost:8080/",
          "height": 567
        },
        "id": "ShtJKxHfdwDw",
        "outputId": "31e1fbb2-0adc-445d-a37a-4f6fa5c50031"
      },
      "execution_count": 43,
      "outputs": [
        {
          "output_type": "display_data",
          "data": {
            "image/png": "[encoded data removed]",
            "text/plain": [
              "<Figure size 1656x648 with 1 Axes>"
            ]
          },
          "metadata": {
            "needs_background": "light"
          }
        }
      ]
    },
    {
      "cell_type": "code",
      "source": [
        "director_count = extract_data('director')\n",
        "director_count"
      ],
      "metadata": {
        "colab": {
          "base_uri": "https://localhost:8080/"
        },
        "id": "Ws9Vkb8neK9H",
        "outputId": "6fb794b4-f38a-4e47-d53b-3f1b9e437b80"
      },
      "execution_count": 45,
      "outputs": [
        {
          "output_type": "execute_result",
          "data": {
            "text/plain": [
              "Woody Allen         46\n",
              "missing             44\n",
              "Clint Eastwood      34\n",
              "Martin Scorsese     31\n",
              "Steven Spielberg    30\n",
              "                    ..\n",
              "Mike Maguire         1\n",
              "Tom Kuntz            1\n",
              "John Simpson         1\n",
              "Simon Hunter         1\n",
              "Harold P. Warren     1\n",
              "Length: 5363, dtype: int64"
            ]
          },
          "metadata": {},
          "execution_count": 45
        }
      ]
    },
    {
      "cell_type": "code",
      "source": [
        "movie_count = df['release_year'].value_counts()\n",
        "# movie_count.plot(xlabel='year',ylabel='number of movies',title='Number of Movies Released Each Year')\n",
        "fig = plt.figure()\n",
        "plt.plot(movie_count)\n",
        "fig.suptitle('Number of Movies Released Each Year',fontsize=20)\n",
        "plt.xlabel('year',fontsize=18)\n",
        "plt.ylabel('number of movies',fontsize=18)"
      ],
      "metadata": {
        "colab": {
          "base_uri": "https://localhost:8080/",
          "height": 333
        },
        "id": "Uvjhi_v4edDh",
        "outputId": "c8edef28-b56d-4383-b352-643b88b7f006"
      },
      "execution_count": 48,
      "outputs": [
        {
          "output_type": "execute_result",
          "data": {
            "text/plain": [
              "Text(0, 0.5, 'number of movies')"
            ]
          },
          "metadata": {},
          "execution_count": 48
        },
        {
          "output_type": "display_data",
          "data": {
            "image/png": "[encoded data removed]",
            "text/plain": [
              "<Figure size 432x288 with 1 Axes>"
            ]
          },
          "metadata": {
            "needs_background": "light"
          }
        }
      ]
    },
    {
      "cell_type": "code",
      "source": [
        "# The following is a really comprehensive plot. It shows the revenue and budget for each genre type per year\n",
        "# genres are so specific, I will just take the first genre for each movie instead of the genre combination\n",
        "df['genre'] =  df['genres'].apply(lambda x: x.split('|')[0])\n",
        "\n",
        "# plot all the genre types for each year with the budget and revenue\n",
        "genre_year = df.groupby(['genre', 'release_year']).mean().sort_index()\n",
        "df_gyBudget = genre_year.pivot_table(index=['genre'], columns=['release_year'], values='budget', aggfunc=np.mean)\n",
        "df_gyBudget = genre_year.pivot_table(index=['genre'], columns=['release_year'], values='budget', aggfunc=np.mean)\n",
        "\n",
        "\n",
        "df_gyGross = genre_year.pivot_table(index=['genre'], columns=['release_year'], values='revenue', aggfunc=np.mean)\n",
        "f, [axA, axB] = plt.subplots(figsize=(40, 20), nrows=2)\n",
        "cmap = sns.cubehelix_palette(start=1.5, rot=1.5, as_cmap=True)\n",
        "sns.heatmap(df_gyBudget, xticklabels=3, cmap=cmap, linewidths=0.05, ax=axA)\n",
        "sns.heatmap(df_gyGross, xticklabels=3, cmap=cmap, linewidths=0.05, ax=axB)\n",
        "axA.set_title('budget x genre x year')\n",
        "axA.set_xlabel('release_years')\n",
        "axA.set_ylabel('genres')\n",
        "\n",
        "\n",
        "axB.set_title('revenue x genre x year')\n",
        "axB.set_xlabel('release_years')\n",
        "axB.set_ylabel('genres')\n",
        "plt.show()"
      ],
      "metadata": {
        "colab": {
          "base_uri": "https://localhost:8080/",
          "height": 1000
        },
        "id": "6iwsDnQ8ejbf",
        "outputId": "4531235e-35a9-4894-b70c-4f37994dc0b3"
      },
      "execution_count": 49,
      "outputs": [
        {
          "output_type": "display_data",
          "data": {
            "image/png": "[encoded data removed]",
            "text/plain": [
              "<Figure size 2880x1440 with 4 Axes>"
            ]
          },
          "metadata": {
            "needs_background": "light"
          }
        }
      ]
    },
    {
      "cell_type": "markdown",
      "source": [
        "Conclusion for Q5: \n",
        "\n",
        "As the time goes, we have a wider range of movies and genres to choose from. From 1984 to 2014, there are more high budget, high revenue movies."
      ],
      "metadata": {
        "id": "Af-obI3Ae_yE"
      }
    },
    {
      "cell_type": "markdown",
      "source": [
        "Conclusion:\n",
        "---\n",
        "Based on the analysis above, we can make the following summarizations:\n",
        "\n",
        "1. The quantity and range of movie gets larger.We have more choices to choose from as an audience.\n",
        "\n",
        "2. Although high budget doesn't guarantees high popularity. But movies with higher budgets do produce higher average popularity.\n",
        "\n",
        "3. To produce a more popular movie, the runtime should be best around 150 mins; Genres such as Drama, Comedy, Action would be more preferable.\n",
        "\n",
        "\n",
        "Limitations:\n",
        "--\n",
        "1. Missing data and many erroreous zeros which may affect the analysis.\n",
        "\n",
        "2. It's hard for us to know how the vote_counts and popularity are measured.\n",
        "\n",
        "3. For foreign movies,currecy is not indicated. inflation over the years should also be taken into consideration.\n",
        "\n",
        "Reference:\n",
        "--\n",
        "1. https://pandas.pydata.org/pandas-docs/version/0.17.0/generated/pandas.DataFrame.nlargest.html\n",
        "2. https://www.kaggle.com/diegoinacio/imdb-genre-based-analysis \n",
        "3. https://pandas.pydata.org/pandas-docs/stable/generated/pandas.DataFrame.apply.html \n",
        "4. https://pandas.pydata.org/pandas-docs/stable/visualization.html\n",
        "5. https://github.com/CICIFLY/Data-Analytics-Projects/tree/master/Data%20Analytics%20with%20Movie%20Data"
      ],
      "metadata": {
        "id": "a5mxSTy-fRMA"
      }
    }
  ]
}
